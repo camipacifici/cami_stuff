{
 "cells": [
  {
   "cell_type": "markdown",
   "id": "agreed-literature",
   "metadata": {},
   "source": [
    "# Redshift fitting for CANUCS test sources"
   ]
  },
  {
   "cell_type": "code",
   "execution_count": null,
   "id": "postal-mailman",
   "metadata": {},
   "outputs": [],
   "source": [
    "#import specutils\n",
    "import specutils\n",
    "from specutils import Spectrum1D\n",
    "from specutils.fitting import fit_generic_continuum\n",
    "from specutils.analysis import correlation\n",
    "from specutils.manipulation import LinearInterpolatedResampler\n",
    "\n",
    "#import jdaviz\n",
    "import jdaviz\n",
    "from jdaviz import SpecViz\n",
    "\n",
    "#import matplotlib\n",
    "from matplotlib import pyplot as plt\n",
    "\n",
    "#import astropy\n",
    "import astropy\n",
    "from astropy.io import fits,ascii\n",
    "from astropy import units as u\n",
    "from astropy.table import QTable\n",
    "from astropy.modeling.models import Linear1D, Polynomial1D, Chebyshev1D\n",
    "from astropy.nddata import StdDevUncertainty\n",
    "\n",
    "#import numpy\n",
    "import numpy as np"
   ]
  },
  {
   "cell_type": "code",
   "execution_count": null,
   "id": "d06e5a9f",
   "metadata": {},
   "outputs": [],
   "source": [
    "#customization of matplotlib style\n",
    "plt.rcParams[\"figure.figsize\"] = (10,5)\n",
    "params={'legend.fontsize':'18','axes.labelsize':'18',\n",
    "        'axes.titlesize':'18','xtick.labelsize':'18',\n",
    "        'ytick.labelsize':'18','lines.linewidth':2,\n",
    "        'axes.linewidth':2,'animation.html': 'html5',\n",
    "        'figure.figsize':(8,6)}\n",
    "plt.rcParams.update(params)\n",
    "plt.rcParams.update({'figure.max_open_warning': 0})"
   ]
  },
  {
   "cell_type": "markdown",
   "id": "27141cb8",
   "metadata": {},
   "source": [
    "Versions"
   ]
  },
  {
   "cell_type": "code",
   "execution_count": null,
   "id": "e1f6b843",
   "metadata": {},
   "outputs": [],
   "source": [
    "print(\"Specutils:\", specutils.__version__)\n",
    "print(\"Astropy:\", astropy.__version__)\n",
    "print(\"Jdaviz:\", jdaviz.__version__)"
   ]
  },
  {
   "cell_type": "markdown",
   "id": "a1cf9d28",
   "metadata": {},
   "source": [
    "## Get a template first since I need this only once"
   ]
  },
  {
   "cell_type": "code",
   "execution_count": null,
   "id": "2dfa51e6",
   "metadata": {},
   "outputs": [],
   "source": [
    "spec_unit = u.erg / (u.s * u.cm**2 * u.AA)\n",
    "\n",
    "template_file = 'https://data.science.stsci.edu/redirect/JWST/jwst-data_analysis_tools/redshift_crosscorr/00076.dat'\n",
    "\n",
    "template = ascii.read(template_file)\n",
    "factor = 2.E-5 * spec_unit # normalize template to a sensible range\n",
    "template = Spectrum1D(spectral_axis=template['col1']/1E4*u.um, \n",
    "                      flux=template['col2']*factor)\n",
    "\n",
    "plt.plot(template.spectral_axis, template.flux)\n",
    "plt.xlabel('wavelength (AA)')\n",
    "plt.ylabel('flux (arbitrary)')\n",
    "plt.xlim(0.3,0.8)\n",
    "plt.show()"
   ]
  },
  {
   "cell_type": "code",
   "execution_count": null,
   "id": "c29d934c",
   "metadata": {},
   "outputs": [],
   "source": [
    "#cut to useful range - template and obs MUST overlap, so we go to 1.1um\n",
    "con_tmp = (template.spectral_axis.value > 0.3) & (template.spectral_axis.value < 1.1)\n",
    "template_cut = Spectrum1D(spectral_axis=template.spectral_axis[con_tmp],flux=template.flux[con_tmp])\n",
    "\n",
    "plt.plot(template_cut.spectral_axis, template_cut.flux)\n",
    "plt.xlabel('wavelength (AA)')\n",
    "plt.ylabel('flux (arbitrary)')\n",
    "plt.show()"
   ]
  },
  {
   "cell_type": "markdown",
   "id": "829cf9d9",
   "metadata": {},
   "source": [
    "## Subtract continuum and replot"
   ]
  },
  {
   "cell_type": "code",
   "execution_count": null,
   "id": "cb6f2b9f",
   "metadata": {},
   "outputs": [],
   "source": [
    "#subtract continuum\n",
    "mask_temp = ((template_cut.spectral_axis.value > 0.31) & (template_cut.spectral_axis.value < 0.37) |\n",
    "             (template_cut.spectral_axis.value > 0.40) & (template_cut.spectral_axis.value < 0.47) |\n",
    "             (template_cut.spectral_axis.value > 0.52) & (template_cut.spectral_axis.value < 0.62) |\n",
    "             (template_cut.spectral_axis.value > 0.70) & (template_cut.spectral_axis.value < 1.05))\n",
    "\n",
    "template_forcont = Spectrum1D(spectral_axis=template_cut.spectral_axis[mask_temp],flux=template_cut.flux[mask_temp])\n",
    "\n",
    "fit_temp = fit_generic_continuum(template_forcont, model=Polynomial1D(5))\n",
    "cont_temp = fit_temp(template_cut.spectral_axis)\n",
    "\n",
    "plt.plot(template_cut.spectral_axis, template_cut.flux)\n",
    "plt.plot(template_cut.spectral_axis, cont_temp)\n",
    "plt.xlabel('wavelength (um)')\n",
    "plt.ylabel('flux (arbitrary)')\n",
    "plt.show()"
   ]
  },
  {
   "cell_type": "code",
   "execution_count": null,
   "id": "6827f368",
   "metadata": {},
   "outputs": [],
   "source": [
    "template_sub = template_cut - cont_temp\n",
    "\n",
    "plt.plot(template_sub.spectral_axis, template_sub.flux)\n",
    "plt.xlabel('wavelength (um)')\n",
    "plt.ylabel('flux (arbitrary)')\n",
    "plt.show()\n",
    "\n",
    "print(spec1d_sub.spectral_axis_unit, template_sub.spectral_axis_unit)"
   ]
  },
  {
   "cell_type": "markdown",
   "id": "0de6ffab",
   "metadata": {},
   "source": [
    "## Read spectrum"
   ]
  },
  {
   "cell_type": "code",
   "execution_count": null,
   "id": "1484a0fc",
   "metadata": {},
   "outputs": [],
   "source": [
    "galid = 19\n",
    "filespec = \"./jaguar_grism_spectra_v2/canucs_basic_WFSSC_{}_combine_1d.fits\".format(galid)\n",
    "\n",
    "spec = fits.open(filespec)\n",
    "spec.info()\n",
    "\n",
    "spec[1].header"
   ]
  },
  {
   "cell_type": "code",
   "execution_count": null,
   "id": "9402e67c",
   "metadata": {},
   "outputs": [],
   "source": [
    "wave = spec[1].data['wavelength']\n",
    "flux = spec[1].data['flux'] * 1.E5\n",
    "\n",
    "dataspec = QTable([wave*u.um, flux*spec_unit, flux*0.1*spec_unit],\n",
    "                   names=('wavelength','flux','unc'))\n",
    "\n",
    "dataspec.sort('wavelength')\n",
    "\n",
    "spec1d = Spectrum1D(spectral_axis = dataspec['wavelength'], \n",
    "                    flux = dataspec['flux'], \n",
    "                    uncertainty=StdDevUncertainty(dataspec['unc']))"
   ]
  },
  {
   "cell_type": "markdown",
   "id": "62a42e6c",
   "metadata": {},
   "source": [
    "Maybe I need a spectrum with no holes? The delta_lambda is ~0.004."
   ]
  },
  {
   "cell_type": "code",
   "execution_count": null,
   "id": "04646002",
   "metadata": {},
   "outputs": [],
   "source": [
    "newwave = np.arange(1.050,2.23,0.004) * u.um\n",
    "\n",
    "linear = LinearInterpolatedResampler()\n",
    "spec1d_full = linear(spec1d, newwave)"
   ]
  },
  {
   "cell_type": "code",
   "execution_count": null,
   "id": "f4df685c",
   "metadata": {},
   "outputs": [],
   "source": [
    "plt.plot(spec1d_full.spectral_axis, spec1d_full.flux)\n",
    "plt.xlabel('wavelength (um)')\n",
    "plt.ylabel('flux (arbitrary)')\n",
    "plt.show()"
   ]
  },
  {
   "cell_type": "markdown",
   "id": "e574b804",
   "metadata": {},
   "source": [
    "## Fit continuum"
   ]
  },
  {
   "cell_type": "code",
   "execution_count": null,
   "id": "ab4968b2",
   "metadata": {},
   "outputs": [],
   "source": [
    "mask = ((spec1d_full.spectral_axis > 1.1 * u.um) & (spec1d_full.spectral_axis < 1.2 * u.um) | \n",
    "        (spec1d_full.spectral_axis > 1.45 * u.um) & (spec1d_full.spectral_axis < 1.6 * u.um) |\n",
    "        (spec1d_full.spectral_axis > 2.0 * u.um) & (spec1d_full.spectral_axis < 2.2 * u.um))\n",
    "\n",
    "spec1d_cont = Spectrum1D(spectral_axis=spec1d_full.spectral_axis[mask],flux=spec1d_full.flux[mask])"
   ]
  },
  {
   "cell_type": "code",
   "execution_count": null,
   "id": "49559030",
   "metadata": {},
   "outputs": [],
   "source": [
    "cont_spec1d = fit_generic_continuum(spec1d_cont, model=Polynomial1D(3))\n",
    "continuum = cont_spec1d(spec1d.spectral_axis)\n",
    "\n",
    "plt.plot(spec1d.spectral_axis, spec1d.flux)\n",
    "plt.plot(spec1d.spectral_axis, continuum)\n",
    "plt.xlabel('wavelength (um)')\n",
    "plt.ylabel('flux (arbitrary)')\n",
    "plt.show()"
   ]
  },
  {
   "cell_type": "markdown",
   "id": "b058c13c",
   "metadata": {},
   "source": [
    "## Subtract continuum and replot"
   ]
  },
  {
   "cell_type": "code",
   "execution_count": null,
   "id": "db101e06",
   "metadata": {},
   "outputs": [],
   "source": [
    "spec1d_sub = spec1d - continuum\n",
    "\n",
    "plt.plot(spec1d_sub.spectral_axis, spec1d_sub.flux)\n",
    "plt.xlabel('wavelength (um)')\n",
    "plt.ylabel('flux (arbitrary)')\n",
    "plt.show()"
   ]
  },
  {
   "cell_type": "markdown",
   "id": "c86d9ca3",
   "metadata": {},
   "source": [
    "## Cross correlation to measure redshift"
   ]
  },
  {
   "cell_type": "code",
   "execution_count": null,
   "id": "c7704c18",
   "metadata": {},
   "outputs": [],
   "source": [
    "corr, lag = correlation.template_correlate(spec1d_sub, template_sub, lag_units=u.dimensionless_unscaled)\n",
    "\n",
    "print(corr,lag)\n",
    "\n",
    "plt.plot(lag, corr)\n",
    "plt.xlabel(lag.unit)"
   ]
  },
  {
   "cell_type": "code",
   "execution_count": null,
   "id": "bfd40f3f",
   "metadata": {},
   "outputs": [],
   "source": [
    "# Redshift based on maximum\n",
    "index_peak = np.argmax(corr)\n",
    "\n",
    "z = lag[index_peak]\n",
    "\n",
    "print(\"Redshift from peak maximum: \", z)\n"
   ]
  },
  {
   "cell_type": "markdown",
   "id": "7c3fc90b",
   "metadata": {},
   "source": [
    "## Visual inspect the fit"
   ]
  },
  {
   "cell_type": "code",
   "execution_count": null,
   "id": "df4e07f0",
   "metadata": {},
   "outputs": [],
   "source": [
    "template_z = Spectrum1D(spectral_axis=template_sub.spectral_axis * (1. + z), flux=template_sub.flux/1000)\n",
    "\n",
    "plt.plot(spec1d_sub.spectral_axis, spec1d_sub.flux, label='Data')\n",
    "plt.plot(template_z.spectral_axis, template_z.flux, label='Template at z', alpha=0.3)\n",
    "plt.xlabel('wavelength (um)')\n",
    "plt.ylabel('flux (arbitrary)')\n",
    "plt.show()"
   ]
  },
  {
   "cell_type": "code",
   "execution_count": null,
   "id": "72d0ac5b",
   "metadata": {},
   "outputs": [],
   "source": [
    "#redshift based on visual inspection\n",
    "viz = SpecViz()\n",
    "viz.app"
   ]
  },
  {
   "cell_type": "code",
   "execution_count": null,
   "id": "9983c96b",
   "metadata": {},
   "outputs": [],
   "source": [
    "viz.load_spectrum(spec1d_sub,\"CANUCS {}\".format(galid))"
   ]
  },
  {
   "cell_type": "code",
   "execution_count": null,
   "id": "2064aa1a",
   "metadata": {},
   "outputs": [],
   "source": []
  }
 ],
 "metadata": {
  "kernelspec": {
   "display_name": "Python 3",
   "language": "python",
   "name": "python3"
  },
  "language_info": {
   "codemirror_mode": {
    "name": "ipython",
    "version": 3
   },
   "file_extension": ".py",
   "mimetype": "text/x-python",
   "name": "python",
   "nbconvert_exporter": "python",
   "pygments_lexer": "ipython3",
   "version": "3.8.8"
  }
 },
 "nbformat": 4,
 "nbformat_minor": 5
}
