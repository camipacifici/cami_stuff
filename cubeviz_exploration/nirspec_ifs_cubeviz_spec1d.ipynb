{
 "cells": [
  {
   "cell_type": "markdown",
   "id": "proved-treasury",
   "metadata": {},
   "source": [
    "## Test NIRSpec IFS data in cubeviz"
   ]
  },
  {
   "cell_type": "code",
   "execution_count": null,
   "id": "official-renewal",
   "metadata": {},
   "outputs": [],
   "source": [
    "#to use 100% of the browser window\n",
    "from IPython.core.display import display, HTML\n",
    "display(HTML(\"<style>.container { width:100% !important; }</style>\"))"
   ]
  },
  {
   "cell_type": "code",
   "execution_count": null,
   "id": "treated-quantum",
   "metadata": {},
   "outputs": [],
   "source": [
    "import time\n",
    "\n",
    "import specutils\n",
    "from specutils import Spectrum1D\n",
    "\n",
    "import jdaviz\n",
    "from jdaviz import CubeViz\n",
    "\n",
    "import astropy\n",
    "from astropy.io import fits\n",
    "from astropy import units as u\n",
    "from astropy.nddata import StdDevUncertainty\n",
    "import astropy.wcs\n",
    "\n",
    "import numpy as np"
   ]
  },
  {
   "cell_type": "markdown",
   "id": "3afc0363",
   "metadata": {},
   "source": [
    "Check versions. Works with:\n",
    "- jdaviz: 2.0.1.dev106+g392e1b6\n",
    "- astropy: 4.3.post1\n",
    "- specutils: 1.4.2.dev42+g08b2a7f3"
   ]
  },
  {
   "cell_type": "code",
   "execution_count": null,
   "id": "6fe1a0ff",
   "metadata": {},
   "outputs": [],
   "source": [
    "print(\"jdaviz:\",jdaviz.__version__)\n",
    "print(\"astropy:\",astropy.__version__)\n",
    "print(\"specutils:\",specutils.__version__)"
   ]
  },
  {
   "cell_type": "markdown",
   "id": "70bdf5f8",
   "metadata": {},
   "source": [
    "## Load a pipeline-processed JWST simulated cube as example"
   ]
  },
  {
   "cell_type": "code",
   "execution_count": null,
   "id": "interracial-protocol",
   "metadata": {},
   "outputs": [],
   "source": [
    "from astropy.utils.data import download_file\n",
    "filename = \"https://stsci.box.com/shared/static/ff0bj31acot1272x5qq2clbmto3s6v4f.fits\"\n",
    "ifucube_file = download_file(filename, cache=True)\n",
    "#cubeviz.load_data(fn)"
   ]
  },
  {
   "cell_type": "code",
   "execution_count": null,
   "id": "robust-baghdad",
   "metadata": {},
   "outputs": [],
   "source": [
    "cubeviz2 = CubeViz()\n",
    "cubeviz2.app"
   ]
  },
  {
   "cell_type": "code",
   "execution_count": null,
   "id": "94f48511",
   "metadata": {},
   "outputs": [],
   "source": [
    "cubeviz2.app.load_data(ifucube_file)"
   ]
  },
  {
   "cell_type": "markdown",
   "id": "2bb3554b",
   "metadata": {},
   "source": [
    "## Explore the IPS file as is"
   ]
  },
  {
   "cell_type": "code",
   "execution_count": null,
   "id": "faced-holmes",
   "metadata": {},
   "outputs": [],
   "source": [
    "filename = \"./3004_IPS_18660_badrc_CUBE_R3D.fits\""
   ]
  },
  {
   "cell_type": "code",
   "execution_count": null,
   "id": "06320c94",
   "metadata": {},
   "outputs": [],
   "source": [
    "hdulist = fits.open(filename)\n",
    "hdulist.info()"
   ]
  },
  {
   "cell_type": "code",
   "execution_count": null,
   "id": "624ec6c7",
   "metadata": {},
   "outputs": [],
   "source": [
    "fnhead_sci = hdulist['DATA'].header\n",
    "fnhead_err = hdulist['ERR'].header\n",
    "fnhead_dq = hdulist['QUALITY'].header\n",
    "hdulist['DATA'].header"
   ]
  },
  {
   "cell_type": "markdown",
   "id": "ae8ef4c3",
   "metadata": {},
   "source": [
    "## Here I create Spectrum1D object"
   ]
  },
  {
   "cell_type": "code",
   "execution_count": null,
   "id": "d1cc70d6",
   "metadata": {},
   "outputs": [],
   "source": [
    "#create Spectrum1D object from data in cube\n",
    "wave = np.arange(fnhead_sci['CRVAL3'], fnhead_sci['CRVAL3'] + float(fnhead_sci['NAXIS3'])*fnhead_sci['CDELT3'], fnhead_sci['CDELT3']) * 1.E6 * u.um\n",
    "print(wave)\n",
    "print(len(wave))\n",
    "print(fnhead_sci['NAXIS3'])"
   ]
  },
  {
   "cell_type": "code",
   "execution_count": null,
   "id": "c8529e3a",
   "metadata": {},
   "outputs": [],
   "source": [
    "#create a WCS object instead\n",
    "wcs_dict = {\n",
    "'CTYPE1': 'WAVE    ', 'CUNIT1': 'um', 'CDELT1': fnhead_sci['CDELT3'] * 1E6, 'CRPIX1': fnhead_sci['CRPIX3'], 'CRVAL1': fnhead_sci['CRVAL3'] * 1E6, 'NAXIS1': fnhead_sci['NAXIS3'],\n",
    "'CTYPE2': 'HPLT-TAN', 'CUNIT2': 'deg', 'CDELT2': fnhead_sci['CDELT1'], 'CRPIX2': fnhead_sci['CRPIX1'], 'CRVAL2': fnhead_sci['CRVAL1'], 'NAXIS2': fnhead_sci['NAXIS1'],\n",
    "'CTYPE3': 'HPLN-TAN', 'CUNIT3': 'deg', 'CDELT3': fnhead_sci['CDELT2'], 'CRPIX3': fnhead_sci['CRPIX2'], 'CRVAL3': fnhead_sci['CRVAL2'], 'NAXIS3': fnhead_sci['NAXIS2']}\n",
    "input_wcs = astropy.wcs.WCS(wcs_dict)"
   ]
  },
  {
   "cell_type": "code",
   "execution_count": null,
   "id": "47d95a5b",
   "metadata": {},
   "outputs": [],
   "source": [
    "#rearrange the data\n",
    "data = hdulist['DATA'].data\n",
    "print(data.shape)\n",
    "\n",
    "new_data = np.zeros((35,30,3817))\n",
    "for i in range (0,35):\n",
    "    for j in range (0,30):\n",
    "        for k in range (0,3817):\n",
    "            new_data[i,j,k] = data[k,i,j]\n",
    "\n",
    "print(new_data.shape)\n"
   ]
  },
  {
   "cell_type": "code",
   "execution_count": null,
   "id": "6acb9c37",
   "metadata": {},
   "outputs": [],
   "source": [
    "#full cube with wcs\n",
    "cube = Spectrum1D(flux=new_data * u.uJy,\n",
    "                  wcs=input_wcs,\n",
    "                  uncertainty = StdDevUncertainty(new_data*0.01*u.uJy))"
   ]
  },
  {
   "cell_type": "raw",
   "id": "17ae06cc",
   "metadata": {},
   "source": [
    "#just central spectrum from cube\n",
    "spect1d = Spectrum1D(flux=new_data[17,15,:] * u.uJy,\n",
    "                  spectral_axis = wave,\n",
    "                  uncertainty = StdDevUncertainty(new_data[17,15,:]*0.01*u.uJy))"
   ]
  },
  {
   "cell_type": "raw",
   "id": "611a4ff8",
   "metadata": {},
   "source": [
    "#2D image in the center of the spectrum\n",
    "data2d = new_data[:,:,1500]\n",
    "data2d.shape"
   ]
  },
  {
   "cell_type": "markdown",
   "id": "e7d6737b",
   "metadata": {},
   "source": [
    "### Open a new cubeviz instance to try these out"
   ]
  },
  {
   "cell_type": "code",
   "execution_count": null,
   "id": "6bf201ff",
   "metadata": {},
   "outputs": [],
   "source": [
    "cubeviz3 = CubeViz()\n",
    "cubeviz3.app"
   ]
  },
  {
   "cell_type": "raw",
   "id": "6a3137b7",
   "metadata": {},
   "source": [
    "#this shows only the data2d in one of the viewers\n",
    "#need to click DATA and select the dataset\n",
    "cubeviz3.app.load_data(data2d, parser_reference=\"imviz-data-parser\", show_in_viewer=False, data_label=\"data2d\")"
   ]
  },
  {
   "cell_type": "raw",
   "id": "f3040792",
   "metadata": {},
   "source": [
    "#this shows only a single spectrum in the spectrum viewer\n",
    "cubeviz3.app.load_data(spect1d, data_label='spec1d')"
   ]
  },
  {
   "cell_type": "code",
   "execution_count": null,
   "id": "65193dac",
   "metadata": {},
   "outputs": [],
   "source": [
    "#this opens the full cube in the form of a Spectrum1D object\n",
    "cubeviz3.app.load_data(cube, data_label=\"cube\")"
   ]
  },
  {
   "cell_type": "code",
   "execution_count": null,
   "id": "5ddcb283",
   "metadata": {},
   "outputs": [],
   "source": []
  }
 ],
 "metadata": {
  "kernelspec": {
   "display_name": "Python 3 (ipykernel)",
   "language": "python",
   "name": "python3"
  },
  "language_info": {
   "codemirror_mode": {
    "name": "ipython",
    "version": 3
   },
   "file_extension": ".py",
   "mimetype": "text/x-python",
   "name": "python",
   "nbconvert_exporter": "python",
   "pygments_lexer": "ipython3",
   "version": "3.8.10"
  }
 },
 "nbformat": 4,
 "nbformat_minor": 5
}
