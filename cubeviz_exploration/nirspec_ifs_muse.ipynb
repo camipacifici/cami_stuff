{
 "cells": [
  {
   "cell_type": "markdown",
   "id": "proved-treasury",
   "metadata": {},
   "source": [
    "## Test MUSE data in cubeviz"
   ]
  },
  {
   "cell_type": "code",
   "execution_count": 1,
   "id": "official-renewal",
   "metadata": {},
   "outputs": [
    {
     "data": {
      "text/html": [
       "<style>.container { width:100% !important; }</style>"
      ],
      "text/plain": [
       "<IPython.core.display.HTML object>"
      ]
     },
     "metadata": {},
     "output_type": "display_data"
    }
   ],
   "source": [
    "#to use 100% of the browser window\n",
    "from IPython.core.display import display, HTML\n",
    "display(HTML(\"<style>.container { width:100% !important; }</style>\"))"
   ]
  },
  {
   "cell_type": "code",
   "execution_count": 2,
   "id": "treated-quantum",
   "metadata": {},
   "outputs": [],
   "source": [
    "import time\n",
    "\n",
    "import specutils\n",
    "from specutils import Spectrum1D\n",
    "\n",
    "import jdaviz\n",
    "from jdaviz import CubeViz\n",
    "\n",
    "import astropy\n",
    "from astropy.io import fits\n",
    "from astropy import units as u\n",
    "from astropy.nddata import StdDevUncertainty\n",
    "\n",
    "import spectral_cube\n",
    "from spectral_cube import SpectralCube\n",
    "\n",
    "import numpy as np"
   ]
  },
  {
   "cell_type": "markdown",
   "id": "3afc0363",
   "metadata": {},
   "source": [
    "Check versions. Works with:\n",
    "- jdaviz 1.2.dev229+g664d35b\n",
    "- astropy 4.2.1\n",
    "- specutils 1.2\n",
    "- spectralcube 0.5.0\n",
    "\n",
    "or\n",
    "- jdaviz: 2.0.1.dev67+g3d148c2\n",
    "- astropy: 4.3.post1\n",
    "- specutils: 1.4.2.dev28+g5505ef69\n",
    "- spectralcube: 0.5.0"
   ]
  },
  {
   "cell_type": "code",
   "execution_count": 3,
   "id": "6fe1a0ff",
   "metadata": {},
   "outputs": [
    {
     "name": "stdout",
     "output_type": "stream",
     "text": [
      "jdaviz: 2.0.1.dev67+g3d148c2\n",
      "astropy: 4.3.post1\n",
      "specutils: 1.4.2.dev28+g5505ef69\n",
      "spectralcube: 0.5.0\n"
     ]
    }
   ],
   "source": [
    "print(\"jdaviz:\",jdaviz.__version__)\n",
    "print(\"astropy:\",astropy.__version__)\n",
    "print(\"specutils:\",specutils.__version__)\n",
    "print(\"spectralcube:\",spectral_cube.__version__)"
   ]
  },
  {
   "cell_type": "markdown",
   "id": "70bdf5f8",
   "metadata": {},
   "source": [
    "## Load a pipeline-processed JWST simulated cube that can serve as example"
   ]
  },
  {
   "cell_type": "code",
   "execution_count": null,
   "id": "interracial-protocol",
   "metadata": {},
   "outputs": [],
   "source": [
    "from astropy.utils.data import download_file\n",
    "filename = \"https://stsci.box.com/shared/static/ff0bj31acot1272x5qq2clbmto3s6v4f.fits\"\n",
    "ifucube_file = download_file(filename, cache=True)\n",
    "#cubeviz.load_data(fn)"
   ]
  },
  {
   "cell_type": "code",
   "execution_count": null,
   "id": "robust-baghdad",
   "metadata": {},
   "outputs": [],
   "source": [
    "cubeviz2 = CubeViz()\n",
    "cubeviz2.app"
   ]
  },
  {
   "cell_type": "code",
   "execution_count": null,
   "id": "94f48511",
   "metadata": {},
   "outputs": [],
   "source": [
    "cubeviz2.app.load_data(ifucube_file)"
   ]
  },
  {
   "cell_type": "markdown",
   "id": "2bb3554b",
   "metadata": {},
   "source": [
    "## Explore the file as is"
   ]
  },
  {
   "cell_type": "code",
   "execution_count": 5,
   "id": "faced-holmes",
   "metadata": {},
   "outputs": [],
   "source": [
    "filename1 = \"./COS4_17628_YJ.fits\"\n",
    "filename2 = \"./GS4_37124_K.fits\""
   ]
  },
  {
   "cell_type": "code",
   "execution_count": 6,
   "id": "06320c94",
   "metadata": {},
   "outputs": [
    {
     "name": "stdout",
     "output_type": "stream",
     "text": [
      "Filename: ./GS4_37124_K.fits\n",
      "No.    Name      Ver    Type      Cards   Dimensions   Format\n",
      "  0  PRIMARY       1 PrimaryHDU      30   ()      \n",
      "  1  GS4_37124 flux    1 ImageHDU        37   (18, 20, 2048)   float32   \n",
      "  2  GS4_37124 noise    1 ImageHDU        37   (18, 20, 2048)   float32   \n",
      "  3  GS4_37124 exposure map    1 ImageHDU        26   (18, 20)   float32   \n",
      "  4  GS4_37124 PSF    1 ImageHDU        48   (21, 21)   float32   \n"
     ]
    }
   ],
   "source": [
    "hdulist = fits.open(filename2)\n",
    "hdulist.info()"
   ]
  },
  {
   "cell_type": "markdown",
   "id": "b68bfc68",
   "metadata": {},
   "source": [
    "## Now I open cubeviz and I load the new file"
   ]
  },
  {
   "cell_type": "code",
   "execution_count": 7,
   "id": "spectacular-screw",
   "metadata": {},
   "outputs": [
    {
     "data": {
      "application/vnd.jupyter.widget-view+json": {
       "model_id": "9c3cca20d4ca4b32a011df5407a0bd8c",
       "version_major": 2,
       "version_minor": 0
      },
      "text/plain": [
       "Application(components={'g-viewer-tab': '<template>\\n  <component :is=\"stack.container\">\\n    <g-viewer-tab\\n …"
      ]
     },
     "metadata": {},
     "output_type": "display_data"
    }
   ],
   "source": [
    "cubeviz = CubeViz()\n",
    "cubeviz.app"
   ]
  },
  {
   "cell_type": "code",
   "execution_count": 9,
   "id": "3b6908d8",
   "metadata": {},
   "outputs": [
    {
     "name": "stderr",
     "output_type": "stream",
     "text": [
      "WARNING: UnitsWarning: '1e-17 W/m^2/um' contains multiple slashes, which is discouraged by the FITS standard [astropy.units.format.generic]\n",
      "WARNING:astropy:UnitsWarning: '1e-17 W/m^2/um' contains multiple slashes, which is discouraged by the FITS standard\n",
      "WARNING: UnitsWarning: '1e-17 W/m^2/um' contains multiple slashes, which is discouraged by the FITS standard [astropy.units.format.generic]\n",
      "WARNING:astropy:UnitsWarning: '1e-17 W/m^2/um' contains multiple slashes, which is discouraged by the FITS standard\n",
      "WARNING: UnitsWarning: '1e-17 W/m^2/um' contains multiple slashes, which is discouraged by the FITS standard [astropy.units.format.generic]\n",
      "WARNING:astropy:UnitsWarning: '1e-17 W/m^2/um' contains multiple slashes, which is discouraged by the FITS standard\n",
      "WARNING: UnitsWarning: '1e-17 W/m^2/um' contains multiple slashes, which is discouraged by the FITS standard [astropy.units.format.generic]\n",
      "WARNING:astropy:UnitsWarning: '1e-17 W/m^2/um' contains multiple slashes, which is discouraged by the FITS standard\n",
      "WARNING: UnitsWarning: '1e-17 W/m^2/um' contains multiple slashes, which is discouraged by the FITS standard [astropy.units.format.generic]\n",
      "WARNING:astropy:UnitsWarning: '1e-17 W/m^2/um' contains multiple slashes, which is discouraged by the FITS standard\n",
      "WARNING: UnitsWarning: '1e-17 W/m^2/um' contains multiple slashes, which is discouraged by the FITS standard [astropy.units.format.generic]\n",
      "WARNING:astropy:UnitsWarning: '1e-17 W/m^2/um' contains multiple slashes, which is discouraged by the FITS standard\n",
      "WARNING: UnitsWarning: '1e-17 W/m^2/um' contains multiple slashes, which is discouraged by the FITS standard [astropy.units.format.generic]\n",
      "WARNING:astropy:UnitsWarning: '1e-17 W/m^2/um' contains multiple slashes, which is discouraged by the FITS standard\n",
      "WARNING:root:Data should be 3- or 4-dimensional\n",
      "WARNING:root:Data should be 3- or 4-dimensional\n"
     ]
    }
   ],
   "source": [
    "cubeviz.app.load_data(filename2, data_label=\"KMOS\")"
   ]
  },
  {
   "cell_type": "code",
   "execution_count": null,
   "id": "5ddcb283",
   "metadata": {},
   "outputs": [],
   "source": []
  }
 ],
 "metadata": {
  "kernelspec": {
   "display_name": "Python 3 (ipykernel)",
   "language": "python",
   "name": "python3"
  },
  "language_info": {
   "codemirror_mode": {
    "name": "ipython",
    "version": 3
   },
   "file_extension": ".py",
   "mimetype": "text/x-python",
   "name": "python",
   "nbconvert_exporter": "python",
   "pygments_lexer": "ipython3",
   "version": "3.8.10"
  }
 },
 "nbformat": 4,
 "nbformat_minor": 5
}
