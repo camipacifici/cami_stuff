{
 "cells": [
  {
   "cell_type": "markdown",
   "id": "proved-treasury",
   "metadata": {},
   "source": [
    "# Test KMOS data in Cubeviz\n",
    "\n",
    "We will open a KMOS cube in cubeviz and create a moment map to measure a velocity field from H alpha. We will then save the map out to a fits file.\n",
    "\n",
    "**Installation instructions**  \n",
    "- conda create -n jdaviz python=3.8\n",
    "- conda activate jdaviz\n",
    "- pip install jdaviz"
   ]
  },
  {
   "cell_type": "code",
   "execution_count": null,
   "id": "official-renewal",
   "metadata": {},
   "outputs": [],
   "source": [
    "#to use 100% of the browser window\n",
    "from IPython.core.display import display, HTML\n",
    "display(HTML(\"<style>.container { width:100% !important; }</style>\"))"
   ]
  },
  {
   "cell_type": "markdown",
   "id": "f15927e9",
   "metadata": {},
   "source": [
    "## Imports"
   ]
  },
  {
   "cell_type": "code",
   "execution_count": null,
   "id": "treated-quantum",
   "metadata": {},
   "outputs": [],
   "source": [
    "import time\n",
    "\n",
    "import specutils\n",
    "from specutils import Spectrum1D\n",
    "\n",
    "import jdaviz\n",
    "from jdaviz import Cubeviz\n",
    "from jdaviz import Imviz\n",
    "\n",
    "import astropy\n",
    "from astropy.io import fits\n",
    "from astropy import units as u\n",
    "from astropy.nddata import StdDevUncertainty\n",
    "\n",
    "import numpy as np"
   ]
  },
  {
   "cell_type": "markdown",
   "id": "3afc0363",
   "metadata": {},
   "source": [
    "Works with the released versions of these packages.\n",
    "- jdaviz: 2.0.0\n",
    "- astropy: 4.3.1\n",
    "- specutils: 1.4.0"
   ]
  },
  {
   "cell_type": "code",
   "execution_count": null,
   "id": "6fe1a0ff",
   "metadata": {},
   "outputs": [],
   "source": [
    "print(\"jdaviz:\",jdaviz.__version__)\n",
    "print(\"astropy:\",astropy.__version__)\n",
    "print(\"specutils:\",specutils.__version__)"
   ]
  },
  {
   "cell_type": "markdown",
   "id": "2bb3554b",
   "metadata": {},
   "source": [
    "## Open the KMOS fits file and check the header"
   ]
  },
  {
   "cell_type": "code",
   "execution_count": null,
   "id": "faced-holmes",
   "metadata": {},
   "outputs": [],
   "source": [
    "filename1 = \"./COS4_17628_YJ.fits\"\n",
    "filename2 = \"./GS4_37124_K.fits\""
   ]
  },
  {
   "cell_type": "code",
   "execution_count": null,
   "id": "06320c94",
   "metadata": {},
   "outputs": [],
   "source": [
    "hdulist = fits.open(filename1)\n",
    "hdulist.info()"
   ]
  },
  {
   "cell_type": "code",
   "execution_count": null,
   "id": "ab8d4111",
   "metadata": {},
   "outputs": [],
   "source": [
    "fnhead_sci = hdulist[1].header\n",
    "fnhead_sci"
   ]
  },
  {
   "cell_type": "markdown",
   "id": "b68bfc68",
   "metadata": {},
   "source": [
    "## Open Cubeviz and load the file"
   ]
  },
  {
   "cell_type": "code",
   "execution_count": null,
   "id": "spectacular-screw",
   "metadata": {},
   "outputs": [],
   "source": [
    "cubeviz = Cubeviz()\n",
    "cubeviz.app"
   ]
  },
  {
   "cell_type": "code",
   "execution_count": null,
   "id": "0fda1c26",
   "metadata": {},
   "outputs": [],
   "source": [
    "cubeviz.app.load_data(filename1, data_label=\"KMOS\")\n",
    "# Ignore the warnings"
   ]
  },
  {
   "cell_type": "markdown",
   "id": "27facc23",
   "metadata": {},
   "source": [
    "## Work in the GUI\n",
    "\n",
    "### Adjust the settings to properly see the cube\n",
    "- In the image viewer on the top left, use the second icon to the right\n",
    "- Select the percentile to 95%\n",
    "- Scroll though the cube to have an idea what you are looking at\n",
    "\n",
    "### Get a useful 1D spectrum\n",
    "- In the cube viewer, click the first icon to the right and select the circle\n",
    "- Draw a region in the center of the field of view to select the part of the cube with the better signal\n",
    "- In the spectrum viewer, the dafault spectrum plotted is the spectrum of the brightest pixel\n",
    "- Choose Median using the second icon to the right and the menu \"Viewer\"\n",
    "- Click the first icon to the right and the home icon that appears on the left to reset the zoom to a more appropriate value\n",
    "- You should be able to find Ha!\n",
    "\n",
    "### Select the spectral region of Ha\n",
    "- In the spectrum viewer, use the first icon to the right and select the region icon\n",
    "- Select the spectrum around Ha\n",
    "\n",
    "### Calculate the moment map\n",
    "- Open the plugin tray by clicking the lego icon at the top right\n",
    "- Select the moment map plugin\n",
    "- Select the appropriate subset as spectral region\n",
    "- Select moment \"1\" and hit Calculate\n",
    "- Save out the moment map as fits file from the plugin tray\n",
    "\n",
    "### View the moment map in the viewer\n",
    "- In one of the empty viewer, click Data\n",
    "- Select the new moment map\n",
    "- Change the custom percentiles to ## Work in the GUI\n",
    "\n",
    "### Adjust the settings to properly see the cube\n",
    "- In the image viewer on the top left, use the second icon to the right\n",
    "- Select the percentile to 95%\n",
    "- Scroll though the cube to have an idea what you are looking at\n",
    "\n",
    "### Get a useful 1D spectrum\n",
    "- In the cube viewer, click the first icon to the right and select the circle\n",
    "- Draw a region in the center of the field of view to select the part of the cube with the better signal\n",
    "- In the spectrum viewer, the dafault spectrum plotted is the spectrum of the brightest pixel\n",
    "- Choose Median using the second icon to the right and the menu \"Viewer\"\n",
    "- Click the first icon to the right and the home icon that appears on the left to reset the zoom to a more appropriate value\n",
    "- You should be able to find Ha!\n",
    "\n",
    "### Select the spectral region of Ha\n",
    "- In the spectrum viewer, use the first icon to the right and select the region icon\n",
    "- Select the spectrum around Ha\n",
    "\n",
    "### Calculate the moment map\n",
    "- Open the plugin tray by clicking the lego icon at the top right\n",
    "- Select the moment map plugin\n",
    "- Select the appropriate subset as spectral region\n",
    "- Select moment \"1\" and hit Calculate\n",
    "- Save out the moment map as fits file from the plugin tray\n",
    "\n",
    "### View the moment map in the viewer\n",
    "- In one of the empty viewer, click Data\n",
    "- Select the new moment map\n",
    "- Click the second icon to the righ and change the percentile limits to 0.0000012516 and 0.0000012528\n"
   ]
  },
  {
   "cell_type": "markdown",
   "id": "eb30e947",
   "metadata": {},
   "source": [
    "## Another option to save the map programmatically after opening it in the second viewer"
   ]
  },
  {
   "cell_type": "code",
   "execution_count": null,
   "id": "607f0a80",
   "metadata": {},
   "outputs": [],
   "source": [
    "cubeviz.app.get_data_from_viewer(\"uncert-viewer\")"
   ]
  },
  {
   "cell_type": "code",
   "execution_count": null,
   "id": "58179a4c",
   "metadata": {},
   "outputs": [],
   "source": [
    "moment_map_cube = cubeviz.app.get_data_from_viewer(\"uncert-viewer\", \"Moment 1: KMOS[COS4_17628 flux]\")\n",
    "moment_map_cube"
   ]
  },
  {
   "cell_type": "code",
   "execution_count": null,
   "id": "ea26925d",
   "metadata": {},
   "outputs": [],
   "source": [
    "hdulist = moment_map_cube.to_hdu()\n",
    "moment_map_cube.write('momentmap_kmos.fits')"
   ]
  },
  {
   "cell_type": "markdown",
   "id": "92e1f98b",
   "metadata": {},
   "source": [
    "## Open the map in Imviz"
   ]
  },
  {
   "cell_type": "code",
   "execution_count": null,
   "id": "7b8b1496",
   "metadata": {},
   "outputs": [],
   "source": [
    "imviz = Imviz()\n",
    "imviz.app"
   ]
  },
  {
   "cell_type": "code",
   "execution_count": null,
   "id": "632f4d7d",
   "metadata": {},
   "outputs": [],
   "source": [
    "imviz.load_data('momentmap_COS.fits')"
   ]
  },
  {
   "cell_type": "code",
   "execution_count": null,
   "id": "98799a3d",
   "metadata": {},
   "outputs": [],
   "source": []
  }
 ],
 "metadata": {
  "kernelspec": {
   "display_name": "Python 3 (ipykernel)",
   "language": "python",
   "name": "python3"
  },
  "language_info": {
   "codemirror_mode": {
    "name": "ipython",
    "version": 3
   },
   "file_extension": ".py",
   "mimetype": "text/x-python",
   "name": "python",
   "nbconvert_exporter": "python",
   "pygments_lexer": "ipython3",
   "version": "3.9.7"
  }
 },
 "nbformat": 4,
 "nbformat_minor": 5
}
