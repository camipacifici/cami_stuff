{
 "cells": [
  {
   "cell_type": "markdown",
   "id": "33aba442-e968-436b-b9ff-215aac92a1f7",
   "metadata": {},
   "source": [
    "# Fitting emission lines with Cubeviz\n",
    "\n",
    "Fitting emission lines in a cube can be done interactively with `cubeviz` from `jdaviz` or programmatically with `specutils` or `astropy`. Jdaviz uses under the hood `specutils` and `astropy.modeling`, so the final result should be very similar depending on the specific function used or the initial guesses for the parameters.\n",
    "\n",
    "Here is some documentation to work with fitting lines programmatically:\n",
    "- [specutils line fitting](https://specutils.readthedocs.io/en/stable/fitting.html)\n",
    "- [astropy modeling, 1D models](https://docs.astropy.org/en/stable/modeling/predef_models1D.html)\n",
    "\n",
    "The rest of this notebook is a tutorial to use Jdaviz. We recommend to install jdaviz from main to get the latest bug fixes. Installing jdaviz will automatically install also astropy and specutils.\n",
    "[Installation instructions](https://jdaviz.readthedocs.io/en/stable/):<br>\n",
    "`conda create -n jdaviz python=3.11 -y`<br>\n",
    "`conda activate jdaviz`<br>\n",
    "`pip install git+https://github.com/spacetelescope/jdaviz.git`\n",
    "\n",
    "[Cubeviz documentation](https://jdaviz.readthedocs.io/en/stable/cubeviz/index.html)"
   ]
  },
  {
   "cell_type": "code",
   "execution_count": null,
   "id": "73e74c9a-9a0d-4a56-af3b-3b70f6037324",
   "metadata": {},
   "outputs": [],
   "source": [
    "from jdaviz import Cubeviz"
   ]
  },
  {
   "cell_type": "markdown",
   "id": "e6dc7e88-837b-4c46-93d1-2214bdc4bcfe",
   "metadata": {},
   "source": [
    "## Load cube into Cubeviz"
   ]
  },
  {
   "cell_type": "code",
   "execution_count": null,
   "id": "22b265ca-f791-4a83-8cd1-b85cbe54fb55",
   "metadata": {},
   "outputs": [],
   "source": [
    "cubefile = 'mast:jwst/product/jw01328-o013_t005_nirspec_g235h-f170lp_s3d.fits'"
   ]
  },
  {
   "cell_type": "code",
   "execution_count": null,
   "id": "1f40886d-bae2-4a50-916e-221e9d64dc07",
   "metadata": {},
   "outputs": [],
   "source": [
    "cubeviz = Cubeviz()\n",
    "cubeviz.load_data(cubefile)\n",
    "cubeviz.show(height=600)"
   ]
  },
  {
   "cell_type": "markdown",
   "id": "0d88c431-c00f-4bc3-beba-cd4071b7eff2",
   "metadata": {},
   "source": [
    "## Steps to create moment maps\n",
    "- Select a subset on the emission line of interest\n",
    "- Open the Moment Map plugin\n",
    "- Follow the entries to create moment 0 maps (flux) and/or moment 1 maps (velocity) and display in the Uncertainty viewer (top right viewer)\n",
    "<img src=\"./moment0.png\" alt=\"Moment 0 map\" width=\"400\"/>\n",
    "<img src=\"./moment1.png\" alt=\"Moment 1 map\" width=\"400\"/>"
   ]
  },
  {
   "cell_type": "markdown",
   "id": "180ed8db-96ca-4351-b600-f30f52eca2e1",
   "metadata": {},
   "source": [
    "## Steps to fit the emission line + continuum\n",
    "- To have extracted spectra and cube in the same units, go to Unit Conversion plugin and select `Spectral y-axis Type` as Surface Brightness\n",
    "- Extract a single spaxel to calibrate the fit\n",
    "- Select a subset around the emission line of interest\n",
    "- Open Model Fitting plugin and select the appropriate entries and two models: `Linear1D` and `Gaussian1D`. Then run the fit to the single spectrum first to check that it is doing a good job.\n",
    "- Iterate to find the best parameters, then toggle `Cube Fit`, change the name of the model, and run the fit to the full cube.\n",
    "- Retrieve the model parameters using either `cubeviz.get_models()` or `cubeviz.get_model_parameters()`\n",
    "<img src=\"./modelcube.png\" alt=\"Moment cube\" width=\"400\"/>"
   ]
  },
  {
   "cell_type": "code",
   "execution_count": null,
   "id": "4456c84d-58b0-4f4b-854c-c8f510b3d4bd",
   "metadata": {},
   "outputs": [],
   "source": [
    "mymodel = cubeviz.get_models(model_label='model_cube')\n",
    "mymodel"
   ]
  },
  {
   "cell_type": "code",
   "execution_count": null,
   "id": "81b850b5-4b7c-4bb0-bbef-c5793586ff9c",
   "metadata": {},
   "outputs": [],
   "source": [
    "myparams = cubeviz.get_model_parameters(model_label=\"model_cube\")\n",
    "myparams"
   ]
  },
  {
   "cell_type": "markdown",
   "id": "e64122ad-df80-4b1e-89ad-21944a6d4cf2",
   "metadata": {},
   "source": [
    "**Author**: Camilla Pacifici (cpacifici@stsci.edu)<br>\n",
    "**Updated**: November 15, 2024"
   ]
  }
 ],
 "metadata": {
  "kernelspec": {
   "display_name": "Python 3 (ipykernel)",
   "language": "python",
   "name": "python3"
  },
  "language_info": {
   "codemirror_mode": {
    "name": "ipython",
    "version": 3
   },
   "file_extension": ".py",
   "mimetype": "text/x-python",
   "name": "python",
   "nbconvert_exporter": "python",
   "pygments_lexer": "ipython3",
   "version": "3.11.10"
  }
 },
 "nbformat": 4,
 "nbformat_minor": 5
}
