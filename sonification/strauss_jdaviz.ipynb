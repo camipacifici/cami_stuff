{
 "cells": [
  {
   "cell_type": "markdown",
   "id": "44db0879-889e-4f11-b126-38dda937c938",
   "metadata": {},
   "source": [
    "# STRAUSS + Jdaviz: sonification and visualization of data cubes"
   ]
  },
  {
   "cell_type": "markdown",
   "id": "9bae9557-1529-498c-8d0d-280bbd3d85af",
   "metadata": {},
   "source": [
    "## What are STRAUSS and Jdaviz"
   ]
  },
  {
   "cell_type": "markdown",
   "id": "389d7c6e-7d01-4994-9bef-52b702d26aa5",
   "metadata": {},
   "source": [
    "## Import"
   ]
  },
  {
   "cell_type": "code",
   "execution_count": null,
   "id": "67e546c7-765c-4cf6-96f6-80def1e70a67",
   "metadata": {},
   "outputs": [],
   "source": [
    "from jdaviz import Cubeviz"
   ]
  },
  {
   "cell_type": "markdown",
   "id": "2209a15b-64a7-45a3-a918-f7b929d22242",
   "metadata": {},
   "source": [
    "## Load cube data into Cubeviz"
   ]
  },
  {
   "cell_type": "markdown",
   "id": "23ffd480-020e-4193-8c1c-5e095b1716ac",
   "metadata": {},
   "source": [
    "**to do** take list of possible datasets from James"
   ]
  },
  {
   "cell_type": "code",
   "execution_count": null,
   "id": "5b5d8689-28a2-4e9d-a5d2-acda2b993302",
   "metadata": {},
   "outputs": [],
   "source": [
    "file = './randomcubes/jw01328-o018_t010_nirspec_g235h-f170lp_s3d.fits'\n",
    "cubeviz = Cubeviz()\n",
    "cubeviz.load_data(file)\n",
    "cubeviz.show()"
   ]
  },
  {
   "cell_type": "markdown",
   "id": "de3762b4-f672-47ef-8434-f2cf4ab36789",
   "metadata": {},
   "source": [
    "## Use Sonify Data plugin to explore the cube\n",
    "\n",
    "Add some documentation"
   ]
  },
  {
   "cell_type": "markdown",
   "id": "712f8cc5-0435-49de-8c1e-00270f84cc7b",
   "metadata": {},
   "source": [
    "## Run model fitting to calculate the continuum under the line of interest\n",
    "1. Select a composite subset around the line: click subset tool, draw the first half on the continuum to the left of the line, at the top near 'Subset 1' click the red circle and change the setting to `add`, draw the second half on the continuum to the right of the line.\n",
    "2. Open model fitting plugin\n",
    "3. Set 'Spectral region' to 'Subset 1'; set 'Model Component' to 'Linear1D'; click `add component`; click `fit model`.\n",
    "4. Check that the model is good enough.\n",
    "5. If so, go back to the beginning of model fitting and toggle `cube fit`; change the name of the 'Output data label' to 'model_cube'; click `fit model`.\n",
    "\n",
    "**to-do** add link to documentation"
   ]
  },
  {
   "cell_type": "markdown",
   "id": "6e0d516a-da54-4840-93b0-1cb2552d4133",
   "metadata": {},
   "source": [
    "## Get the cube and model out and create continuum subtracted cube"
   ]
  },
  {
   "cell_type": "code",
   "execution_count": null,
   "id": "87984a03-dec9-4e94-b018-048bc2351d81",
   "metadata": {},
   "outputs": [],
   "source": [
    "cubemodel = cubeviz.get_data('model_cube')\n",
    "cubeoriginal = cubeviz.get_data('jw01328-o018_t010_nirspec_g235h-f170lp_s3d.fits[SCI]')\n",
    "\n",
    "cubesub = cubeoriginal - cubemodel\n",
    "cubesub"
   ]
  },
  {
   "cell_type": "markdown",
   "id": "c340416d-e9a6-4e1d-8e43-6aa486bda03b",
   "metadata": {},
   "source": [
    "## Open the continuum subtracted cube in a new instance of Cubeviz"
   ]
  },
  {
   "cell_type": "code",
   "execution_count": null,
   "id": "3cd06674-d95c-4394-af5a-f9627602e10e",
   "metadata": {},
   "outputs": [],
   "source": [
    "cubeviz2 = Cubeviz()\n",
    "cubeviz2.load_data(cubesub)\n",
    "cubeviz2.show()"
   ]
  },
  {
   "cell_type": "code",
   "execution_count": null,
   "id": "a9898970-d284-4095-9b8b-9306a8c7482e",
   "metadata": {},
   "outputs": [],
   "source": []
  }
 ],
 "metadata": {
  "kernelspec": {
   "display_name": "Python 3 (ipykernel)",
   "language": "python",
   "name": "python3"
  },
  "language_info": {
   "codemirror_mode": {
    "name": "ipython",
    "version": 3
   },
   "file_extension": ".py",
   "mimetype": "text/x-python",
   "name": "python",
   "nbconvert_exporter": "python",
   "pygments_lexer": "ipython3",
   "version": "3.12.8"
  }
 },
 "nbformat": 4,
 "nbformat_minor": 5
}
