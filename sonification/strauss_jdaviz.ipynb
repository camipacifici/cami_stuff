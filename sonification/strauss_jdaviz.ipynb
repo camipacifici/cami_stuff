{
 "cells": [
  {
   "cell_type": "markdown",
   "id": "44db0879-889e-4f11-b126-38dda937c938",
   "metadata": {},
   "source": [
    "# STRAUSS + Jdaviz: sonification and visualization of data cubes"
   ]
  },
  {
   "cell_type": "markdown",
   "id": "9bae9557-1529-498c-8d0d-280bbd3d85af",
   "metadata": {},
   "source": [
    "## What are STRAUSS and Jdaviz\n",
    "\n",
    "**STRAUSS** (Sonification Tools and Resources for Analysis Using Sound Synthesis) is a python toolkit for data \"sonification\" - the representation of data using sound - with both scientific and outreach applications. [Full STRAUSS documentation](https://strauss.readthedocs.io/en/latest/).\n",
    "\n",
    "**Jdaviz** (JWST/Jupyter Data Analysis and Visualization) is a python package for astronomers to visualize and analyse imaging and spectroscopic data. [Full Jdaviz documentation](https://jdaviz.readthedocs.io/en/stable/).\n",
    "\n",
    "The combination of these two tools allows us to explore astronomical cube data with eyes and ears.\n",
    "\n",
    "[STRAUSS-Jdaviz example videos](https://www.youtube.com/playlist?list=PLS9GQGrzun1samPgl4uySgTbYqpHlXJC_)<br>\n",
    "[STRAUSS-Jdaviz example notebooks](https://github.com/james-trayford/jdaviz_listener_startup/tree/main/notebook)<br>"
   ]
  },
  {
   "cell_type": "markdown",
   "id": "19e8c800-d099-4415-bd40-f4eb2c7b0b59",
   "metadata": {},
   "source": [
    "## Installation instructions"
   ]
  },
  {
   "cell_type": "markdown",
   "id": "58e32bda-48c7-421d-a394-e968bdad497c",
   "metadata": {},
   "source": [
    "We recommend working in a dedicated environment. These instructions use `conda` for package management.\n",
    "\n",
    "`conda create -n jdavizstrauss python=3.12 -y`<br>\n",
    "`conda activate jdavizstrauss`<br>\n",
    "`pip install jdaviz strauss`<br>"
   ]
  },
  {
   "cell_type": "markdown",
   "id": "389d7c6e-7d01-4994-9bef-52b702d26aa5",
   "metadata": {},
   "source": [
    "## Import"
   ]
  },
  {
   "cell_type": "code",
   "execution_count": null,
   "id": "67e546c7-765c-4cf6-96f6-80def1e70a67",
   "metadata": {},
   "outputs": [],
   "source": [
    "from jdaviz import Cubeviz"
   ]
  },
  {
   "cell_type": "markdown",
   "id": "2209a15b-64a7-45a3-a918-f7b929d22242",
   "metadata": {},
   "source": [
    "## Load cube data into Cubeviz"
   ]
  },
  {
   "cell_type": "code",
   "execution_count": null,
   "id": "ae7cf96c-8b32-45e2-ab4c-51e55aed607b",
   "metadata": {},
   "outputs": [],
   "source": [
    "jwst = 'mast:JWST/product/'\n",
    "manga = \"https://data.sdss.org/sas/dr17/manga/spectro/redux/v3_1_1/\"\n",
    "\n",
    "uris = [f\"{jwst}jw02016-c1009_t011_miri_ch1-shortmediumlong_s3d.fits\", # NGC1052 - edge-on galaxy\n",
    "       f\"{jwst}jw02016-c1012_t023_miri_ch1-shortmediumlong_s3d.fits\", # Sombrero Galaxy - edge-on galaxy\n",
    "       f\"{jwst}jw02732-o004_t004_miri_ch1-shortmediumlong_s3d.fits\", # NGC7319 - AGN\n",
    "       f\"{jwst}jw01267-c1000_t002_miri_ch1-shortmediumlong_s3d.fits\", # ARP220 Ultra Luminous InfraRed galaxy (ULIRG)\n",
    "       f\"{jwst}jw01335-o004_t004_nirspec_g140h-f100lp_s3d.fits\", # XID / XMMC 2028 (AGN, Cresci)\n",
    "       f\"{jwst}jw01328-o018_t010_nirspec_g235h-f170lp_s3d.fits\", # Bianchin, AGN + SF ring\n",
    "       f\"{jwst}jw01282-o026_t029_miri_ch1-shortmediumlong_s3d.fits\", # HL Tau protoplanetary disc\n",
    "       f\"{jwst}jw01742-c1001_t003_miri_ch1-shortmediumlong_s3d.fits\", # Butterfly nebula\n",
    "        f\"{manga}7443/stack/manga-7443-12703-LOGCUBE.fits.gz\", # Merger\n",
    "        f\"{manga}9862/stack/manga-9862-12703-LOGCUBE.fits.gz\", # EELR Galaxy\n",
    "        f\"{manga}8938/stack/manga-8938-6102-LOGCUBE.fits.gz\",# another EELR Galaxy,\n",
    "        f\"{manga}11965/stack/manga-11965-3703-LOGCUBE.fits.gz\",# yet another EELR Galaxy,\n",
    "        f\"{manga}8626/stack/manga-8626-12704-LOGCUBE.fits.gz\", # Blueberry\n",
    "       f\"{jwst}jw01492-o009_t001_nirspec_g235m-f170lp_s3d.fits\",\n",
    "       f\"{jwst}jw01492-o009_t001_nirspec_g140m-f100lp_s3d.fits\",\n",
    "       f\"{jwst}jw01492-o009_t001_nirspec_g395m-f290lp_s3d.fits\",\n",
    "       f\"{jwst}jw01492-o009_t001_nirspec_prism-clear_s3d.fits\",\n",
    "       f\"{jwst}jw01492-o008_t001_nirspec_g235m-f170lp_s3d.fits\"]\n",
    "\n",
    "print(uris[4])"
   ]
  },
  {
   "cell_type": "code",
   "execution_count": null,
   "id": "5b5d8689-28a2-4e9d-a5d2-acda2b993302",
   "metadata": {},
   "outputs": [],
   "source": [
    "cubeviz = Cubeviz()\n",
    "cubeviz.load_data(f\"{uris[5]}\")\n",
    "cubeviz.show()"
   ]
  },
  {
   "cell_type": "markdown",
   "id": "de3762b4-f672-47ef-8434-f2cf4ab36789",
   "metadata": {},
   "source": [
    "## Use Sonify Data plugin to explore the cube\n",
    "\n",
    "[Sonify plugin documentation.](https://jdaviz.readthedocs.io/en/v4.1.0/cubeviz/plugins.html#sonify-data)\n",
    "\n",
    "<img src=\"./sonify_plugin.png\" alt=\"Screenshot of the app with the sonify plugin open in the tray\" width=\"700\">"
   ]
  },
  {
   "cell_type": "markdown",
   "id": "712f8cc5-0435-49de-8c1e-00270f84cc7b",
   "metadata": {},
   "source": [
    "## Run model fitting to calculate the continuum under the line of interest\n",
    "1. Select a composite subset around the line: click subset tool, draw the first half on the continuum to the left of the line, at the top near 'Subset 1' click the red circle and change the setting to `add`, draw the second half on the continuum to the right of the line.\n",
    "2. Open model fitting plugin\n",
    "3. Set 'Spectral region' to 'Subset 1'; set 'Model Component' to 'Linear1D'; click `add component`; click `fit model`.\n",
    "4. Check that the model is good enough.\n",
    "5. If so, go back to the beginning of model fitting and toggle `cube fit`; change the name of the 'Output data label' to 'model_cube'; click `fit model`.\n",
    "\n",
    "[Jdaviz Model Fitting plugin documentation](https://jdaviz.readthedocs.io/en/v4.1.0/specviz/plugins.html#model-fitting)"
   ]
  },
  {
   "cell_type": "markdown",
   "id": "6e0d516a-da54-4840-93b0-1cb2552d4133",
   "metadata": {},
   "source": [
    "## Get the cube and model out and create continuum subtracted cube"
   ]
  },
  {
   "cell_type": "code",
   "execution_count": null,
   "id": "14583b44-8665-4b87-813d-61a12cb974bd",
   "metadata": {},
   "outputs": [],
   "source": [
    "# Show what datasets are available in the app\n",
    "cubeviz.data_labels"
   ]
  },
  {
   "cell_type": "code",
   "execution_count": null,
   "id": "87984a03-dec9-4e94-b018-048bc2351d81",
   "metadata": {},
   "outputs": [],
   "source": [
    "cubemodel = cubeviz.get_data('model_cube')\n",
    "cubeoriginal = cubeviz.get_data('jw01328-o018_t010_nirspec_g235h-f170lp_s3d[SCI]') # change based on cube loaded\n",
    "\n",
    "cubesub = cubeoriginal - cubemodel\n",
    "cubesub"
   ]
  },
  {
   "cell_type": "markdown",
   "id": "c340416d-e9a6-4e1d-8e43-6aa486bda03b",
   "metadata": {},
   "source": [
    "## Open the continuum subtracted cube in a new instance of Cubeviz"
   ]
  },
  {
   "cell_type": "code",
   "execution_count": null,
   "id": "3cd06674-d95c-4394-af5a-f9627602e10e",
   "metadata": {},
   "outputs": [],
   "source": [
    "cubeviz2 = Cubeviz()\n",
    "cubeviz2.load_data(cubesub)\n",
    "cubeviz2.show()"
   ]
  },
  {
   "cell_type": "code",
   "execution_count": null,
   "id": "3a0675f4-04be-4b5a-8543-9b46359e887f",
   "metadata": {},
   "outputs": [],
   "source": []
  }
 ],
 "metadata": {
  "kernelspec": {
   "display_name": "Python 3 (ipykernel)",
   "language": "python",
   "name": "python3"
  },
  "language_info": {
   "codemirror_mode": {
    "name": "ipython",
    "version": 3
   },
   "file_extension": ".py",
   "mimetype": "text/x-python",
   "name": "python",
   "nbconvert_exporter": "python",
   "pygments_lexer": "ipython3",
   "version": "3.12.8"
  }
 },
 "nbformat": 4,
 "nbformat_minor": 5
}
