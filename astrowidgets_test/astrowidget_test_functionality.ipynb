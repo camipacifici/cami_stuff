{
 "cells": [
  {
   "cell_type": "markdown",
   "metadata": {},
   "source": [
    "# Widget example\n",
    "\n",
    "## Things we want to test:\n",
    "- zoom\n",
    "- pan\n",
    "- inspecting pixel values\n",
    "- stretch\n",
    "- colormaps\n",
    "- overlays\n",
    "- transparency\n",
    "- region support\n",
    "- locking images by pixel\n",
    "- locking images by WCS\n",
    "- blinking and tabbing between images\n",
    "- passing regions to other tools"
   ]
  },
  {
   "cell_type": "code",
   "execution_count": 1,
   "metadata": {},
   "outputs": [],
   "source": [
    "import astrowidgets\n",
    "from astrowidgets import ImageWidget\n",
    "\n",
    "import ginga\n",
    "from ginga.misc.log import get_logger\n",
    "\n",
    "import astropy\n",
    "from astropy.io import fits\n",
    "from astropy.nddata import CCDData"
   ]
  },
  {
   "cell_type": "markdown",
   "metadata": {},
   "source": [
    "Versions:"
   ]
  },
  {
   "cell_type": "code",
   "execution_count": 2,
   "metadata": {},
   "outputs": [
    {
     "name": "stdout",
     "output_type": "stream",
     "text": [
      "astrowidgets: 0.1.1\n",
      "ginga: 3.1.0\n",
      "astropy: 4.2\n"
     ]
    }
   ],
   "source": [
    "print(\"astrowidgets:\", astrowidgets.__version__)\n",
    "print(\"ginga:\", ginga.__version__)\n",
    "print(\"astropy:\", astropy.__version__)"
   ]
  },
  {
   "cell_type": "code",
   "execution_count": 3,
   "metadata": {},
   "outputs": [],
   "source": [
    "logger = get_logger('my viewer', log_stderr=True, log_file=None, level=30)\n",
    "w = ImageWidget(logger=logger)"
   ]
  },
  {
   "cell_type": "markdown",
   "metadata": {},
   "source": [
    "## Use NIRCam simulated images"
   ]
  },
  {
   "cell_type": "code",
   "execution_count": 4,
   "metadata": {},
   "outputs": [],
   "source": [
    "image_f115w = 'https://data.science.stsci.edu/redirect/JWST/jwst-data_analysis_tools/stellar_photometry/jw01072001001_01101_00001_nrcb1_cal.fits'\n",
    "numhdu = 1\n",
    "ccd1 = CCDData.read(image_f115w, hdu=numhdu, format='fits')\n",
    "\n",
    "image_f200w = 'https://data.science.stsci.edu/redirect/JWST/jwst-data_analysis_tools/stellar_photometry/jw01072001001_01101_00005_nrcb1_cal.fits'\n",
    "numhdu = 1\n",
    "ccd2 = CCDData.read(image_f200w, hdu=numhdu, format='fits')\n"
   ]
  },
  {
   "cell_type": "markdown",
   "metadata": {},
   "source": [
    "## Load data into viewer"
   ]
  },
  {
   "cell_type": "code",
   "execution_count": 5,
   "metadata": {},
   "outputs": [],
   "source": [
    "w.load_nddata(ccd1)"
   ]
  },
  {
   "cell_type": "code",
   "execution_count": 6,
   "metadata": {},
   "outputs": [
    {
     "data": {
      "application/vnd.jupyter.widget-view+json": {
       "model_id": "c43b2aaae15a46f4b0c6fac550b6964f",
       "version_major": 2,
       "version_minor": 0
      },
      "text/plain": [
       "ImageWidget(children=(Image(value=b'\\xff\\xd8\\xff\\xe0\\x00\\x10JFIF\\x00\\x01\\x01\\x00\\x00\\x01\\x00\\x01\\x00\\x00\\xff\\x…"
      ]
     },
     "metadata": {},
     "output_type": "display_data"
    }
   ],
   "source": [
    "w"
   ]
  },
  {
   "cell_type": "markdown",
   "metadata": {},
   "source": [
    "## Zoom/Pan\n",
    "\n",
    "The non default is more intuitive.\n",
    "\n",
    "Turn off `scroll_pan` and turn on `click_drag`; note that zooming may be very sensitive."
   ]
  },
  {
   "cell_type": "code",
   "execution_count": 7,
   "metadata": {},
   "outputs": [],
   "source": [
    "w.scroll_pan = False\n",
    "w.click_drag = True"
   ]
  },
  {
   "cell_type": "markdown",
   "metadata": {},
   "source": [
    "Now I can zoom by scrolling. To pan I have to do Space -> q -> arrows. Esc to get out."
   ]
  },
  {
   "cell_type": "markdown",
   "metadata": {},
   "source": [
    "## Inspecting pixel values\n",
    "\n",
    "Output under the image. I can have a list of points by clicking on the image to mark a point of interest."
   ]
  },
  {
   "cell_type": "code",
   "execution_count": 8,
   "metadata": {},
   "outputs": [
    {
     "name": "stdout",
     "output_type": "stream",
     "text": [
      "True\n"
     ]
    }
   ],
   "source": [
    "# This enables marking mode.\n",
    "w.start_marking()\n",
    "print(w.is_marking)"
   ]
  },
  {
   "cell_type": "markdown",
   "metadata": {},
   "source": [
    "Mark things"
   ]
  },
  {
   "cell_type": "code",
   "execution_count": 9,
   "metadata": {},
   "outputs": [
    {
     "name": "stdout",
     "output_type": "stream",
     "text": [
      "False\n"
     ]
    }
   ],
   "source": [
    "# When done, set back to False.\n",
    "w.stop_marking()\n",
    "print(w.is_marking)"
   ]
  },
  {
   "cell_type": "code",
   "execution_count": 10,
   "metadata": {},
   "outputs": [
    {
     "name": "stdout",
     "output_type": "stream",
     "text": [
      "   X        Y             Coordinates         \n",
      "  999.39  1070.63 05h21m49.7918s -69d29m11.0846s\n",
      "  985.14  1205.44 05h21m49.8814s -69d29m06.9322s\n",
      " 1018.02  1232.84 05h21m49.6905s -69d29m06.0795s\n",
      "  855.81  1061.86 05h21m50.6307s -69d29m11.3901s\n",
      "  890.88  1009.25 05h21m50.4233s -69d29m13.0033s\n",
      "  968.70   810.88 05h21m49.9591s -69d29m19.0999s\n",
      " 1041.04   820.74 05h21m49.5367s -69d29m18.778s\n",
      " 1071.72   891.98 05h21m49.3606s -69d29m16.5743s\n",
      " 1055.28   893.08 05h21m49.4568s -69d29m16.5445s\n"
     ]
    }
   ],
   "source": [
    "# Get table of markers\n",
    "markers_table = w.get_markers(marker_name='all')\n",
    "\n",
    "# Default display might be hard to read, so we do this\n",
    "print('{:^8s} {:^8s} {:^28s}'.format(\n",
    "    'X', 'Y', 'Coordinates'))\n",
    "for row in markers_table:\n",
    "    c = row['coord'].to_string('hmsdms')\n",
    "    print('{:8.2f} {:8.2f} {}'.format(\n",
    "        row['x'], row['y'], c))"
   ]
  },
  {
   "cell_type": "markdown",
   "metadata": {},
   "source": [
    "## Stretch / Colormaps"
   ]
  },
  {
   "cell_type": "code",
   "execution_count": 11,
   "metadata": {},
   "outputs": [
    {
     "name": "stdout",
     "output_type": "stream",
     "text": [
      "['linear', 'log', 'power', 'sqrt', 'squared', 'asinh', 'sinh', 'histeq']\n"
     ]
    }
   ],
   "source": [
    "# Get all available image stretch options\n",
    "print(w.stretch_options)"
   ]
  },
  {
   "cell_type": "code",
   "execution_count": 12,
   "metadata": {},
   "outputs": [
    {
     "name": "stdout",
     "output_type": "stream",
     "text": [
      "linear\n"
     ]
    }
   ],
   "source": [
    "# Get image stretch algorithm in use\n",
    "print(w.stretch)"
   ]
  },
  {
   "cell_type": "code",
   "execution_count": 13,
   "metadata": {},
   "outputs": [
    {
     "name": "stdout",
     "output_type": "stream",
     "text": [
      "histeq\n"
     ]
    }
   ],
   "source": [
    "# Change the stretch\n",
    "w.stretch = 'histeq'\n",
    "print(w.stretch)"
   ]
  },
  {
   "cell_type": "code",
   "execution_count": 14,
   "metadata": {},
   "outputs": [
    {
     "name": "stdout",
     "output_type": "stream",
     "text": [
      "['aips0', 'backgr', 'blue', 'blulut', 'color', 'ds9_a', 'ds9_b', 'ds9_bb', 'ds9_cool', 'ds9_he', 'ds9_i8', 'gray', 'grayclip', 'green', 'heat', 'idl11', 'idl12', 'idl14', 'idl15', 'idl2', 'idl4', 'idl5', 'idl6', 'isophot', 'jt', 'light', 'manycol', 'pastel', 'rainbow', 'rainbow1', 'rainbow2', 'rainbow3', 'rainbow4', 'ramp', 'random', 'random1', 'random2', 'random3', 'random4', 'random5', 'random6', 'real', 'red', 'smooth', 'smooth1', 'smooth2', 'smooth3', 'soss', 'staircase', 'stairs8', 'stairs9', 'standard']\n"
     ]
    }
   ],
   "source": [
    "# Get all available colormaps\n",
    "print(w.colormap_options)"
   ]
  },
  {
   "cell_type": "code",
   "execution_count": 15,
   "metadata": {},
   "outputs": [],
   "source": [
    "# Change colormap\n",
    "w.set_colormap('ds9_cool')"
   ]
  },
  {
   "cell_type": "code",
   "execution_count": null,
   "metadata": {},
   "outputs": [],
   "source": []
  }
 ],
 "metadata": {
  "kernelspec": {
   "display_name": "Python 3",
   "language": "python",
   "name": "python3"
  },
  "language_info": {
   "codemirror_mode": {
    "name": "ipython",
    "version": 3
   },
   "file_extension": ".py",
   "mimetype": "text/x-python",
   "name": "python",
   "nbconvert_exporter": "python",
   "pygments_lexer": "ipython3",
   "version": "3.9.1"
  }
 },
 "nbformat": 4,
 "nbformat_minor": 4
}
