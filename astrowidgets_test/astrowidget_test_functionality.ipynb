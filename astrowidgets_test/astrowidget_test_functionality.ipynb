{
 "cells": [
  {
   "cell_type": "markdown",
   "metadata": {},
   "source": [
    "# Widget example\n",
    "\n",
    "## Things we want to test:\n",
    "- zoom\n",
    "- pan\n",
    "- inspecting pixel values\n",
    "- stretch\n",
    "- colormaps\n",
    "- overlays\n",
    "- transparency\n",
    "- region support\n",
    "- locking images by pixel\n",
    "- locking images by WCS\n",
    "- blinking and tabbing between images\n",
    "- passing regions to other tools"
   ]
  },
  {
   "cell_type": "code",
   "execution_count": null,
   "metadata": {},
   "outputs": [],
   "source": [
    "import astrowidgets\n",
    "from astrowidgets import ImageWidget\n",
    "\n",
    "import ginga\n",
    "from ginga.misc.log import get_logger\n",
    "\n",
    "import astropy\n",
    "from astropy.io import fits\n",
    "from astropy.nddata import CCDData"
   ]
  },
  {
   "cell_type": "markdown",
   "metadata": {},
   "source": [
    "Versions:"
   ]
  },
  {
   "cell_type": "code",
   "execution_count": null,
   "metadata": {},
   "outputs": [],
   "source": [
    "print(\"astrowidgets:\", astrowidgets.__version__)\n",
    "print(\"ginga:\", ginga.__version__)\n",
    "print(\"astropy:\", astropy.__version__)"
   ]
  },
  {
   "cell_type": "code",
   "execution_count": null,
   "metadata": {},
   "outputs": [],
   "source": [
    "logger = get_logger('my viewer', log_stderr=True, log_file=None, level=30)\n",
    "w = ImageWidget(logger=logger)"
   ]
  },
  {
   "cell_type": "markdown",
   "metadata": {},
   "source": [
    "## Use NIRCam simulated images"
   ]
  },
  {
   "cell_type": "code",
   "execution_count": null,
   "metadata": {},
   "outputs": [],
   "source": [
    "image_f115w = 'https://data.science.stsci.edu/redirect/JWST/jwst-data_analysis_tools/stellar_photometry/jw01072001001_01101_00001_nrcb1_cal.fits'\n",
    "numhdu = 1\n",
    "ccd1 = CCDData.read(image_f115w, hdu=numhdu, format='fits')\n",
    "\n",
    "image_f200w = 'https://data.science.stsci.edu/redirect/JWST/jwst-data_analysis_tools/stellar_photometry/jw01072001001_01101_00005_nrcb1_cal.fits'\n",
    "numhdu = 1\n",
    "ccd2 = CCDData.read(image_f200w, hdu=numhdu, format='fits')\n"
   ]
  },
  {
   "cell_type": "markdown",
   "metadata": {},
   "source": [
    "## Load data into viewer"
   ]
  },
  {
   "cell_type": "code",
   "execution_count": null,
   "metadata": {},
   "outputs": [],
   "source": [
    "w.load_nddata(ccd1)"
   ]
  },
  {
   "cell_type": "code",
   "execution_count": null,
   "metadata": {},
   "outputs": [],
   "source": [
    "w"
   ]
  },
  {
   "cell_type": "markdown",
   "metadata": {},
   "source": [
    "## Zoom/Pan\n",
    "\n",
    "The non default is more intuitive.\n",
    "\n",
    "Turn off `scroll_pan` and turn on `click_drag`; note that zooming may be very sensitive."
   ]
  },
  {
   "cell_type": "code",
   "execution_count": null,
   "metadata": {},
   "outputs": [],
   "source": [
    "w.scroll_pan = False\n",
    "w.click_drag = True"
   ]
  },
  {
   "cell_type": "markdown",
   "metadata": {},
   "source": [
    "Now I can zoom by scrolling. To pan I have to do Space -> q -> arrows. Esc to get out. Panning with just click and drag would be more intuitive."
   ]
  },
  {
   "cell_type": "markdown",
   "metadata": {},
   "source": [
    "## Inspecting pixel values\n",
    "\n",
    "Output under the image. I can have a list of points by clicking on the image to mark a point of interest.\n",
    "\n",
    "The marking could probably be a plugin."
   ]
  },
  {
   "cell_type": "code",
   "execution_count": null,
   "metadata": {},
   "outputs": [],
   "source": [
    "# This enables marking mode.\n",
    "w.start_marking()\n",
    "print(w.is_marking)"
   ]
  },
  {
   "cell_type": "markdown",
   "metadata": {},
   "source": [
    "Mark things"
   ]
  },
  {
   "cell_type": "code",
   "execution_count": null,
   "metadata": {},
   "outputs": [],
   "source": [
    "# When done, set back to False.\n",
    "w.stop_marking()\n",
    "print(w.is_marking)"
   ]
  },
  {
   "cell_type": "code",
   "execution_count": null,
   "metadata": {},
   "outputs": [],
   "source": [
    "# Get table of markers\n",
    "markers_table = w.get_markers(marker_name='all')\n",
    "\n",
    "# Default display might be hard to read, so we do this\n",
    "print('{:^8s} {:^8s} {:^28s}'.format(\n",
    "    'X', 'Y', 'Coordinates'))\n",
    "for row in markers_table:\n",
    "    c = row['coord'].to_string('hmsdms')\n",
    "    print('{:8.2f} {:8.2f} {}'.format(\n",
    "        row['x'], row['y'], c))"
   ]
  },
  {
   "cell_type": "markdown",
   "metadata": {},
   "source": [
    "## Stretch / Colormaps\n",
    "\n",
    "Right-click and drag like in DS9.\n",
    "\n",
    "Adjusting with defined options would probably need to be plugins."
   ]
  },
  {
   "cell_type": "code",
   "execution_count": null,
   "metadata": {},
   "outputs": [],
   "source": [
    "# Get all available image stretch options\n",
    "print(w.stretch_options)"
   ]
  },
  {
   "cell_type": "code",
   "execution_count": null,
   "metadata": {},
   "outputs": [],
   "source": [
    "# Get image stretch algorithm in use\n",
    "print(w.stretch)"
   ]
  },
  {
   "cell_type": "code",
   "execution_count": null,
   "metadata": {},
   "outputs": [],
   "source": [
    "# Change the stretch\n",
    "w.stretch = 'histeq'\n",
    "print(w.stretch)"
   ]
  },
  {
   "cell_type": "code",
   "execution_count": null,
   "metadata": {},
   "outputs": [],
   "source": [
    "# Get all available colormaps\n",
    "print(w.colormap_options)"
   ]
  },
  {
   "cell_type": "code",
   "execution_count": null,
   "metadata": {},
   "outputs": [],
   "source": [
    "# Change colormap\n",
    "w.set_colormap('ds9_cool')"
   ]
  },
  {
   "cell_type": "code",
   "execution_count": null,
   "metadata": {},
   "outputs": [],
   "source": []
  }
 ],
 "metadata": {
  "kernelspec": {
   "display_name": "Python 3",
   "language": "python",
   "name": "python3"
  },
  "language_info": {
   "codemirror_mode": {
    "name": "ipython",
    "version": 3
   },
   "file_extension": ".py",
   "mimetype": "text/x-python",
   "name": "python",
   "nbconvert_exporter": "python",
   "pygments_lexer": "ipython3",
   "version": "3.9.1"
  }
 },
 "nbformat": 4,
 "nbformat_minor": 4
}
